{
  "nbformat": 4,
  "nbformat_minor": 0,
  "metadata": {
    "colab": {
      "name": "5-3 URL 경로와 GET 매개변수에 있는 특정 키 값을 추출하는 쿼리.ipynb",
      "provenance": []
    },
    "kernelspec": {
      "name": "python3",
      "display_name": "Python 3"
    },
    "language_info": {
      "name": "python"
    }
  },
  "cells": [
    {
      "cell_type": "code",
      "execution_count": null,
      "metadata": {
        "id": "1R287R9WtNHu"
      },
      "outputs": [],
      "source": [
        "select\n",
        "stamp,\n",
        "url,\n",
        "regexp_extract(url, '//[^/]+([^?#]+)') as path,\n",
        "regexp_extract(url, 'id=([^&]*)') as id\n",
        "from ch3.access_log;"
      ]
    }
  ]
}