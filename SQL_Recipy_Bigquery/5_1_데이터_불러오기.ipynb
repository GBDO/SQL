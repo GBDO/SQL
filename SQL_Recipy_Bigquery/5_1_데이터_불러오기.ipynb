{
  "nbformat": 4,
  "nbformat_minor": 0,
  "metadata": {
    "colab": {
      "name": "5-1 데이터_불러오기.ipynb",
      "provenance": []
    },
    "kernelspec": {
      "name": "python3",
      "display_name": "Python 3"
    },
    "language_info": {
      "name": "python"
    }
  },
  "cells": [
    {
      "cell_type": "code",
      "execution_count": null,
      "metadata": {
        "id": "SlTjhPvnqw5H"
      },
      "outputs": [],
      "source": [
        "DROP TABLE IF EXISTS ch3.mst_users;\n",
        "CREATE TABLE ch3.mst_users(\n",
        "    user_id         string(255)\n",
        "  , register_date   string(255)\n",
        "  , register_device integer\n",
        ");\n",
        "\n",
        "INSERT INTO ch3.mst_users\n",
        "VALUES\n",
        "    ('U001', '2016-08-26', 1)\n",
        "  , ('U002', '2016-08-26', 2)\n",
        "  , ('U003', '2016-08-27', 3)\n",
        ";"
      ]
    }
  ]
}