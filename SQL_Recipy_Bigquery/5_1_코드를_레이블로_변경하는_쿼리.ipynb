{
  "nbformat": 4,
  "nbformat_minor": 0,
  "metadata": {
    "colab": {
      "name": "5-1 코드를 레이블로 변경하는 쿼리.ipynb",
      "provenance": []
    },
    "kernelspec": {
      "name": "python3",
      "display_name": "Python 3"
    },
    "language_info": {
      "name": "python"
    }
  },
  "cells": [
    {
      "cell_type": "code",
      "execution_count": null,
      "metadata": {
        "id": "ysJOjLWJsaSe"
      },
      "outputs": [],
      "source": [
        "select\n",
        "user_id,\n",
        "case\n",
        "when register_device = 1 then '데스크톱'\n",
        "when register_device = 2 then '스마트폰'\n",
        "when register_device = 3 then '애플리케이션'\n",
        "end as device_name\n",
        "from ch3.mst_users;"
      ]
    }
  ]
}