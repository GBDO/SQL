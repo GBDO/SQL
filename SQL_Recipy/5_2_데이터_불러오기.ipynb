{
  "nbformat": 4,
  "nbformat_minor": 0,
  "metadata": {
    "colab": {
      "name": "5-2 데이터 불러오기.ipynb",
      "provenance": []
    },
    "kernelspec": {
      "name": "python3",
      "display_name": "Python 3"
    },
    "language_info": {
      "name": "python"
    }
  },
  "cells": [
    {
      "cell_type": "code",
      "execution_count": null,
      "metadata": {
        "id": "gOjMSG2Fspy2"
      },
      "outputs": [],
      "source": [
        "drop table if exists ch3.access_log;\n",
        "create table ch3.access_log (\n",
        "  stamp string(255),\n",
        "  referrer string(255),\n",
        "  url string(255)\n",
        ");\n",
        "\n",
        "insert into `windy-elevator-348511.ch3.access_log`\n",
        "values\n",
        "   ('2016-08-26 12:02:00', 'http://www.other.com/path1/index.php?k1=v1&k2=v2#Ref1', 'http://www.example.com/video/detail?id=001')\n",
        "  , ('2016-08-26 12:02:01', 'http://www.other.net/path1/index.php?k1=v1&k2=v2#Ref1', 'http://www.example.com/video#ref'          )\n",
        "  , ('2016-08-26 12:02:01', 'https://www.other.com/'                               , 'http://www.example.com/book/detail?id=002' )\n",
        ";"
      ]
    }
  ]
}